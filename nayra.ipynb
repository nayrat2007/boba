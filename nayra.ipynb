{
 "cells": [
  {
   "cell_type": "code",
   "execution_count": 2,
   "id": "75b6b322",
   "metadata": {},
   "outputs": [
    {
     "name": "stdout",
     "output_type": "stream",
     "text": [
      "5\n",
      "10\n",
      "15\n"
     ]
    }
   ],
   "source": [
    "n1=int(input())\n",
    "n2=int(input())\n",
    "print(n1+n2)"
   ]
  },
  {
   "cell_type": "code",
   "execution_count": 4,
   "id": "1381a173",
   "metadata": {},
   "outputs": [
    {
     "name": "stdout",
     "output_type": "stream",
     "text": [
      "rokaia\n",
      "shahd\n",
      "rokaiashahd\n",
      "rokaia shahd\n"
     ]
    }
   ],
   "source": [
    "name1=input()\n",
    "name2=input()\n",
    "print(name1+name2)\n",
    "print(name1,name2)\n"
   ]
  },
  {
   "cell_type": "code",
   "execution_count": 9,
   "id": "331c692a",
   "metadata": {},
   "outputs": [
    {
     "name": "stdout",
     "output_type": "stream",
     "text": [
      "nayra\n",
      "hellonayra\n"
     ]
    }
   ],
   "source": [
    "name=input()\n",
    "print(\"hello\"+name)"
   ]
  },
  {
   "cell_type": "code",
   "execution_count": 14,
   "id": "8143c3e9",
   "metadata": {},
   "outputs": [
    {
     "name": "stdout",
     "output_type": "stream",
     "text": [
      "nayra\n",
      "hello nayra\n"
     ]
    }
   ],
   "source": [
    "print(\"hello\",input())"
   ]
  },
  {
   "cell_type": "code",
   "execution_count": 15,
   "id": "8bd34207",
   "metadata": {},
   "outputs": [
    {
     "name": "stdout",
     "output_type": "stream",
     "text": [
      "enter your name\n",
      "nayra\n",
      "hello nayra\n"
     ]
    }
   ],
   "source": [
    "print(\"enter your name\")\n",
    "name=input()\n",
    "print(\"hello\",name)"
   ]
  },
  {
   "cell_type": "code",
   "execution_count": 17,
   "id": "aa514df4",
   "metadata": {},
   "outputs": [
    {
     "name": "stdout",
     "output_type": "stream",
     "text": [
      "enter your name:\n",
      "nayra\n",
      "hello nayra\n"
     ]
    }
   ],
   "source": [
    "print(\"enter your name:\")\n",
    "print(\"hello\",input())"
   ]
  },
  {
   "cell_type": "code",
   "execution_count": 23,
   "id": "c72d2675",
   "metadata": {},
   "outputs": [
    {
     "name": "stdout",
     "output_type": "stream",
     "text": [
      "enter your namenayra\n",
      "hellonayra\n"
     ]
    }
   ],
   "source": [
    "username =input ('enter your name')\n",
    "print(\"hello\"+username)"
   ]
  },
  {
   "cell_type": "code",
   "execution_count": null,
   "id": "ff618e05",
   "metadata": {},
   "outputs": [],
   "source": []
  },
  {
   "cell_type": "code",
   "execution_count": null,
   "id": "c5b6b195",
   "metadata": {},
   "outputs": [],
   "source": []
  }
 ],
 "metadata": {
  "kernelspec": {
   "display_name": "Python 3 (ipykernel)",
   "language": "python",
   "name": "python3"
  },
  "language_info": {
   "codemirror_mode": {
    "name": "ipython",
    "version": 3
   },
   "file_extension": ".py",
   "mimetype": "text/x-python",
   "name": "python",
   "nbconvert_exporter": "python",
   "pygments_lexer": "ipython3",
   "version": "3.11.4"
  }
 },
 "nbformat": 4,
 "nbformat_minor": 5
}
